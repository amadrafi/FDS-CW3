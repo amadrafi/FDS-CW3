{
 "cells": [
  {
   "cell_type": "code",
   "execution_count": 5,
   "id": "88afa3f5",
   "metadata": {},
   "outputs": [],
   "source": [
    "import pandas as pd\n",
    "import numpy as np"
   ]
  },
  {
   "cell_type": "code",
   "execution_count": 6,
   "id": "337980a6",
   "metadata": {},
   "outputs": [],
   "source": [
    "df = pd.read_csv('IMDB-Movie-Data.csv')"
   ]
  },
  {
   "cell_type": "code",
   "execution_count": 4,
   "id": "93fb09ce",
   "metadata": {},
   "outputs": [
    {
     "name": "stdout",
     "output_type": "stream",
     "text": [
      "     Rank                    Title                     Genre  \\\n",
      "0       1  Guardians of the Galaxy   Action,Adventure,Sci-Fi   \n",
      "1       2               Prometheus  Adventure,Mystery,Sci-Fi   \n",
      "2       3                    Split           Horror,Thriller   \n",
      "3       4                     Sing   Animation,Comedy,Family   \n",
      "4       5            Suicide Squad  Action,Adventure,Fantasy   \n",
      "..    ...                      ...                       ...   \n",
      "995   996     Secret in Their Eyes       Crime,Drama,Mystery   \n",
      "996   997          Hostel: Part II                    Horror   \n",
      "997   998   Step Up 2: The Streets       Drama,Music,Romance   \n",
      "998   999             Search Party          Adventure,Comedy   \n",
      "999  1000               Nine Lives     Comedy,Family,Fantasy   \n",
      "\n",
      "                                           Description              Director  \\\n",
      "0    A group of intergalactic criminals are forced ...            James Gunn   \n",
      "1    Following clues to the origin of mankind, a te...          Ridley Scott   \n",
      "2    Three girls are kidnapped by a man with a diag...    M. Night Shyamalan   \n",
      "3    In a city of humanoid animals, a hustling thea...  Christophe Lourdelet   \n",
      "4    A secret government agency recruits some of th...            David Ayer   \n",
      "..                                                 ...                   ...   \n",
      "995  A tight-knit team of rising investigators, alo...             Billy Ray   \n",
      "996  Three American college students studying abroa...              Eli Roth   \n",
      "997  Romantic sparks occur between two dance studen...            Jon M. Chu   \n",
      "998  A pair of friends embark on a mission to reuni...        Scot Armstrong   \n",
      "999  A stuffy businessman finds himself trapped ins...      Barry Sonnenfeld   \n",
      "\n",
      "                                                Actors  Year  \\\n",
      "0    Chris Pratt, Vin Diesel, Bradley Cooper, Zoe S...  2014   \n",
      "1    Noomi Rapace, Logan Marshall-Green, Michael Fa...  2012   \n",
      "2    James McAvoy, Anya Taylor-Joy, Haley Lu Richar...  2016   \n",
      "3    Matthew McConaughey,Reese Witherspoon, Seth Ma...  2016   \n",
      "4    Will Smith, Jared Leto, Margot Robbie, Viola D...  2016   \n",
      "..                                                 ...   ...   \n",
      "995  Chiwetel Ejiofor, Nicole Kidman, Julia Roberts...  2015   \n",
      "996  Lauren German, Heather Matarazzo, Bijou Philli...  2007   \n",
      "997  Robert Hoffman, Briana Evigan, Cassie Ventura,...  2008   \n",
      "998  Adam Pally, T.J. Miller, Thomas Middleditch,Sh...  2014   \n",
      "999  Kevin Spacey, Jennifer Garner, Robbie Amell,Ch...  2016   \n",
      "\n",
      "     Runtime (Minutes)  Rating   Votes  Revenue (Millions)  Metascore  \n",
      "0                  121     8.1  757074              333.13       76.0  \n",
      "1                  124     7.0  485820              126.46       65.0  \n",
      "2                  117     7.3  157606              138.12       62.0  \n",
      "3                  108     7.2   60545              270.32       59.0  \n",
      "4                  123     6.2  393727              325.02       40.0  \n",
      "..                 ...     ...     ...                 ...        ...  \n",
      "995                111     6.2   27585                 NaN       45.0  \n",
      "996                 94     5.5   73152               17.54       46.0  \n",
      "997                 98     6.2   70699               58.01       50.0  \n",
      "998                 93     5.6    4881                 NaN       22.0  \n",
      "999                 87     5.3   12435               19.64       11.0  \n",
      "\n",
      "[1000 rows x 12 columns]\n"
     ]
    }
   ],
   "source": [
    "print(df)"
   ]
  }
 ],
 "metadata": {
  "kernelspec": {
   "display_name": "Python 3 (ipykernel)",
   "language": "python",
   "name": "python3"
  },
  "language_info": {
   "codemirror_mode": {
    "name": "ipython",
    "version": 3
   },
   "file_extension": ".py",
   "mimetype": "text/x-python",
   "name": "python",
   "nbconvert_exporter": "python",
   "pygments_lexer": "ipython3",
   "version": "3.9.12"
  }
 },
 "nbformat": 4,
 "nbformat_minor": 5
}
